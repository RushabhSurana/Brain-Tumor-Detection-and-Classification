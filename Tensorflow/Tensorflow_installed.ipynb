{
 "cells": [
  {
   "cell_type": "code",
   "execution_count": 3,
   "id": "0c511fdc",
   "metadata": {},
   "outputs": [],
   "source": [
    "import base64\n",
    "import io\n",
    "from io import BytesIO\n",
    "import re\n",
    "import keras\n",
    "from keras.models import Sequential\n",
    "from keras.layers import Dense, Dropout, Flatten\n",
    "from keras.layers import Conv2D, MaxPooling2D, Conv3D, BatchNormalization, Activation\n",
    "from keras import backend as K\n",
    "import os\n",
    "from PIL import Image\n",
    "import numpy as np\n",
    "from sklearn.model_selection import train_test_split\n",
    "from sklearn.preprocessing import OneHotEncoder\n",
    "import pandas as pd\n",
    "from keras.models import load_model\n"
   ]
  },
  {
   "cell_type": "code",
   "execution_count": 1,
   "id": "ad040e0c",
   "metadata": {},
   "outputs": [],
   "source": [
    "from keras.models import load_model\n",
    "model = load_model('model_final.h5')"
   ]
  },
  {
   "cell_type": "code",
   "execution_count": 4,
   "id": "ebfd9aeb",
   "metadata": {},
   "outputs": [],
   "source": [
    "classes = ['glioma_tumor', 'meningioma_tumor', 'no_tumor', 'pituitary_tumor']\n",
    "\n",
    "enc = OneHotEncoder()\n",
    "enc.fit([[0], [1], [2], [3]]) \n",
    "def names(number):\n",
    "    if(number == 0):\n",
    "        return 'a Glioma tumor'\n",
    "    elif(number == 1):\n",
    "        return 'a Meningioma tumor'\n",
    "    elif(number == 2):\n",
    "        return 'no tumor'\n",
    "    elif(number == 3):\n",
    "        return 'a Pituitary tumor'"
   ]
  },
  {
   "cell_type": "code",
   "execution_count": 16,
   "id": "d6500c57",
   "metadata": {},
   "outputs": [
    {
     "name": "stdout",
     "output_type": "stream",
     "text": [
      "99.931% confidence there is a Pituitary tumor\n",
      "Pituitary tumors are abnormal growths that develop in your pituitary gland.                    Most pituitary tumors are noncancerous (benign) growths that remain in your pituitary                    gland or surrounding tissues.\n",
      "0.036% confidence there is no tumor\n"
     ]
    }
   ],
   "source": [
    "img_path = \"D:/My_Python/BE/Classification/Testing/pituitary_tumor/image(10).jpg\"\n",
    "#img_data = base64.b64decode(img_path)  \n",
    "        \n",
    "#stream = io.BytesIO(img_data)\n",
    "img_pil = Image.open(img_path)\n",
    "        \n",
    "        \n",
    "#Load model, change image to array and predict\n",
    "model = load_model('model_final.h5') \n",
    "dim = (150, 150)\n",
    "        \n",
    "img = np.array(img_pil.resize(dim))\n",
    "        \n",
    "x = img.reshape(1,150,150,3)\n",
    "answ = model.predict(x)\n",
    "classification = np.where(answ == np.amax(answ))[1][0]\n",
    "pred=str(round(answ[0][classification]*100 ,3)) + '% confidence there is ' + names(classification) \n",
    "        \n",
    "        #Second prediction and facts about tumor if there is\n",
    "if classification==0:\n",
    "    facts = 'Glioma is a type of tumor that occurs in the brain and spinal cord.\\\n",
    "                    A glioma can affect your brain function and be life-threatening depending on\\\n",
    "                    its location and rate of growth.'\n",
    "    no_tumor = str(round(answ[0][2]*100 ,3))\n",
    "    pred2 = no_tumor + '% confidence there is no tumor'\n",
    "    print(pred)\n",
    "    print(facts)\n",
    "    print(pred2)\n",
    "            \n",
    "elif classification==1:\n",
    "    facts = 'A meningioma is a tumor that arises from the meninges, the membranes that surround your brain.\\\n",
    "                    Most meningiomas grow very slowly, often over many years without causing symptoms.'\n",
    "    no_tumor = str(round(answ[0][2]*100 ,3))\n",
    "    pred2 = no_tumor + '% confidence there is no tumor'\n",
    "    print(pred)\n",
    "    print(facts)\n",
    "    print(pred2)\n",
    "        \n",
    "elif classification==3:\n",
    "    facts = 'Pituitary tumors are abnormal growths that develop in your pituitary gland.\\\n",
    "                    Most pituitary tumors are noncancerous (benign) growths that remain in your pituitary\\\n",
    "                    gland or surrounding tissues.'\n",
    "    no_tumor = str(round(answ[0][2]*100 ,3))\n",
    "    pred2 = no_tumor + '% confidence there is no tumor'\n",
    "    print(pred)\n",
    "    print(facts)\n",
    "    print(pred2)\n",
    "        \n",
    "else:\n",
    "    facts=None\n",
    "    pred2 = None"
   ]
  },
  {
   "cell_type": "code",
   "execution_count": null,
   "id": "4a418274",
   "metadata": {},
   "outputs": [],
   "source": []
  }
 ],
 "metadata": {
  "kernelspec": {
   "display_name": "Python 3 (ipykernel)",
   "language": "python",
   "name": "python3"
  },
  "language_info": {
   "codemirror_mode": {
    "name": "ipython",
    "version": 3
   },
   "file_extension": ".py",
   "mimetype": "text/x-python",
   "name": "python",
   "nbconvert_exporter": "python",
   "pygments_lexer": "ipython3",
   "version": "3.9.6"
  }
 },
 "nbformat": 4,
 "nbformat_minor": 5
}
