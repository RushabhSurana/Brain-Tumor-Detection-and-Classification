{
 "cells": [
  {
   "cell_type": "code",
   "execution_count": 1,
   "id": "f238ead2",
   "metadata": {},
   "outputs": [],
   "source": [
    "from numpy.random import seed\n",
    "seed(123)\n",
    "import tensorflow as tf\n",
    "tf.random.set_seed(123) \n",
    "from keras.layers import Input, Lambda, Dense, Flatten\n",
    "from keras.models import Model\n",
    "from keras.applications.vgg16 import VGG16\n",
    "from keras.applications.vgg16 import preprocess_input\n",
    "from keras.preprocessing import image\n",
    "from keras.preprocessing.image import ImageDataGenerator\n",
    "from keras.models import Sequential\n",
    "import numpy as np\n",
    "from glob import glob\n",
    "import matplotlib.pyplot as plt\n",
    "import os\n",
    "import numpy as np\n",
    "import pandas as pd\n",
    "import cv2\n",
    "import matplotlib.pyplot as plt \n",
    "import seaborn as sns\n",
    "import os\n",
    "from PIL import Image\n",
    "from keras.preprocessing.image import img_to_array\n",
    "from keras.preprocessing.image import load_img\n",
    "from keras.utils import np_utils\n",
    "import random\n",
    "import warnings\n",
    "warnings.filterwarnings(\"ignore\", category=FutureWarning)"
   ]
  },
  {
   "cell_type": "code",
   "execution_count": 2,
   "id": "1dbf0a03",
   "metadata": {},
   "outputs": [],
   "source": [
    "import splitfolders"
   ]
  },
  {
   "cell_type": "code",
   "execution_count": 3,
   "id": "df7f1627",
   "metadata": {},
   "outputs": [
    {
     "name": "stderr",
     "output_type": "stream",
     "text": [
      "Copying files: 253 files [00:00, 1405.68 files/s]\n"
     ]
    }
   ],
   "source": [
    "splitfolders.ratio(\"Data\", output=\"output\", seed=1337, ratio=(.8, .1, .1))"
   ]
  },
  {
   "cell_type": "code",
   "execution_count": 4,
   "id": "ffac3aea",
   "metadata": {},
   "outputs": [],
   "source": [
    "trainingdatapath='./output/train'\n",
    "testingdatapath='./output/test'\n",
    "valdatapath='./output/val'"
   ]
  },
  {
   "cell_type": "code",
   "execution_count": 5,
   "id": "8a7fb1e7",
   "metadata": {},
   "outputs": [],
   "source": [
    "train_datagen = ImageDataGenerator(\n",
    "    preprocessing_function=preprocess_input,\n",
    "    rescale = 1.0/255,\n",
    "    rotation_range=40,\n",
    "    width_shift_range=0.2,\n",
    "    height_shift_range=0.2,\n",
    "    shear_range=0.2,\n",
    "    zoom_range=0.2,\n",
    "    horizontal_flip=True,\n",
    "    fill_mode='nearest')\n",
    "test_datagen = ImageDataGenerator(\n",
    "    preprocessing_function=preprocess_input,\n",
    "    rescale = 1/255,\n",
    "    )\n",
    "val_datagen = ImageDataGenerator(\n",
    "    preprocessing_function=preprocess_input,\n",
    "    rescale = 1/255,\n",
    "    )"
   ]
  },
  {
   "cell_type": "code",
   "execution_count": 6,
   "id": "afbf2d30",
   "metadata": {},
   "outputs": [
    {
     "name": "stdout",
     "output_type": "stream",
     "text": [
      "Found 202 images belonging to 2 classes.\n",
      "Found 27 images belonging to 2 classes.\n",
      "Found 24 images belonging to 2 classes.\n"
     ]
    }
   ],
   "source": [
    "train_set = train_datagen.flow_from_directory(trainingdatapath,\n",
    "                                                 target_size = (224, 224), batch_size = 32, class_mode = 'categorical',shuffle=False)\n",
    "test_set = test_datagen.flow_from_directory(testingdatapath,target_size = (224, 224),batch_size = 32,class_mode = 'categorical',shuffle=False)\n",
    "val_set = val_datagen.flow_from_directory(valdatapath,target_size = (224, 224),batch_size = 32,class_mode = 'categorical',shuffle=False)"
   ]
  },
  {
   "cell_type": "code",
   "execution_count": 7,
   "id": "05154d03",
   "metadata": {},
   "outputs": [
    {
     "name": "stdout",
     "output_type": "stream",
     "text": [
      "2\n"
     ]
    }
   ],
   "source": [
    "#giving train folder path for checking of no of classes\n",
    "folders = glob('./output/train/*')\n",
    "print(len(folders))"
   ]
  },
  {
   "cell_type": "code",
   "execution_count": 8,
   "id": "ace7f360",
   "metadata": {},
   "outputs": [],
   "source": [
    "import keras\n",
    "from keras.models import Sequential\n",
    "from keras.layers import Dense\n",
    "from keras.layers import LeakyReLU,PReLU,ELU\n",
    "from keras.layers import Dropout\n",
    "from keras import layers\n",
    "from tensorflow.keras.optimizers import RMSprop\n",
    "from tensorflow.keras.layers import BatchNormalization"
   ]
  },
  {
   "cell_type": "code",
   "execution_count": 9,
   "id": "dea34805",
   "metadata": {},
   "outputs": [],
   "source": [
    "IMAGE_SIZE =[224,224]\n",
    "vgg = VGG16(input_shape=IMAGE_SIZE + [3], weights='imagenet', include_top=False)\n",
    "for layer in vgg.layers:\n",
    "    \n",
    "    layer.trainable = False"
   ]
  },
  {
   "cell_type": "code",
   "execution_count": 10,
   "id": "e7145d9a",
   "metadata": {},
   "outputs": [
    {
     "name": "stdout",
     "output_type": "stream",
     "text": [
      "Model: \"model\"\n",
      "_________________________________________________________________\n",
      "Layer (type)                 Output Shape              Param #   \n",
      "=================================================================\n",
      "input_1 (InputLayer)         [(None, 224, 224, 3)]     0         \n",
      "_________________________________________________________________\n",
      "block1_conv1 (Conv2D)        (None, 224, 224, 64)      1792      \n",
      "_________________________________________________________________\n",
      "block1_conv2 (Conv2D)        (None, 224, 224, 64)      36928     \n",
      "_________________________________________________________________\n",
      "block1_pool (MaxPooling2D)   (None, 112, 112, 64)      0         \n",
      "_________________________________________________________________\n",
      "block2_conv1 (Conv2D)        (None, 112, 112, 128)     73856     \n",
      "_________________________________________________________________\n",
      "block2_conv2 (Conv2D)        (None, 112, 112, 128)     147584    \n",
      "_________________________________________________________________\n",
      "block2_pool (MaxPooling2D)   (None, 56, 56, 128)       0         \n",
      "_________________________________________________________________\n",
      "block3_conv1 (Conv2D)        (None, 56, 56, 256)       295168    \n",
      "_________________________________________________________________\n",
      "block3_conv2 (Conv2D)        (None, 56, 56, 256)       590080    \n",
      "_________________________________________________________________\n",
      "block3_conv3 (Conv2D)        (None, 56, 56, 256)       590080    \n",
      "_________________________________________________________________\n",
      "block3_pool (MaxPooling2D)   (None, 28, 28, 256)       0         \n",
      "_________________________________________________________________\n",
      "block4_conv1 (Conv2D)        (None, 28, 28, 512)       1180160   \n",
      "_________________________________________________________________\n",
      "block4_conv2 (Conv2D)        (None, 28, 28, 512)       2359808   \n",
      "_________________________________________________________________\n",
      "block4_conv3 (Conv2D)        (None, 28, 28, 512)       2359808   \n",
      "_________________________________________________________________\n",
      "block4_pool (MaxPooling2D)   (None, 14, 14, 512)       0         \n",
      "_________________________________________________________________\n",
      "block5_conv1 (Conv2D)        (None, 14, 14, 512)       2359808   \n",
      "_________________________________________________________________\n",
      "block5_conv2 (Conv2D)        (None, 14, 14, 512)       2359808   \n",
      "_________________________________________________________________\n",
      "block5_conv3 (Conv2D)        (None, 14, 14, 512)       2359808   \n",
      "_________________________________________________________________\n",
      "block5_pool (MaxPooling2D)   (None, 7, 7, 512)         0         \n",
      "_________________________________________________________________\n",
      "flatten (Flatten)            (None, 25088)             0         \n",
      "_________________________________________________________________\n",
      "dense (Dense)                (None, 1024)              25691136  \n",
      "_________________________________________________________________\n",
      "dropout (Dropout)            (None, 1024)              0         \n",
      "_________________________________________________________________\n",
      "dense_1 (Dense)              (None, 512)               524800    \n",
      "_________________________________________________________________\n",
      "dense_2 (Dense)              (None, 2)                 1026      \n",
      "=================================================================\n",
      "Total params: 40,931,650\n",
      "Trainable params: 26,216,962\n",
      "Non-trainable params: 14,714,688\n",
      "_________________________________________________________________\n"
     ]
    }
   ],
   "source": [
    "x = Flatten()(vgg.output)\n",
    "x=Dense(units =1024, activation = 'relu')(x)\n",
    "x=Dropout(0.4)(x)\n",
    "x=Dense(units =512, activation = 'relu')(x)\n",
    "#x=Dropout(0.1)(x)\n",
    "prediction = Dense(len(folders), activation='softmax')(x)\n",
    "model = Model(inputs=vgg.input, outputs=prediction)\n",
    "model.summary()"
   ]
  },
  {
   "cell_type": "code",
   "execution_count": 11,
   "id": "f5cc23d2",
   "metadata": {},
   "outputs": [],
   "source": [
    "model.compile(optimizer='Adam',\n",
    "              loss='categorical_crossentropy',\n",
    "              metrics=['accuracy'])"
   ]
  },
  {
   "cell_type": "code",
   "execution_count": 20,
   "id": "07a064f7",
   "metadata": {},
   "outputs": [
    {
     "name": "stderr",
     "output_type": "stream",
     "text": [
      "c:\\users\\rushabh surana\\appdata\\local\\programs\\python\\python39\\lib\\site-packages\\keras\\engine\\training.py:1915: UserWarning: `Model.fit_generator` is deprecated and will be removed in a future version. Please use `Model.fit`, which supports generators.\n",
      "  warnings.warn('`Model.fit_generator` is deprecated and '\n"
     ]
    },
    {
     "name": "stdout",
     "output_type": "stream",
     "text": [
      "Epoch 1/30\n",
      "7/7 - 14s - loss: 1.1186 - accuracy: 0.4257 - val_loss: 0.6067 - val_accuracy: 0.6250\n",
      "\n",
      "Epoch 00001: val_loss improved from inf to 0.60668, saving model to mymodel.9017\n",
      "INFO:tensorflow:Assets written to: mymodel.9017\\assets\n",
      "Epoch 2/30\n",
      "7/7 - 17s - loss: 0.6090 - accuracy: 0.6485 - val_loss: 1.0614 - val_accuracy: 0.6250\n",
      "\n",
      "Epoch 00002: val_loss did not improve from 0.60668\n",
      "Epoch 3/30\n",
      "7/7 - 19s - loss: 1.1423 - accuracy: 0.4505 - val_loss: 0.5474 - val_accuracy: 0.7083\n",
      "\n",
      "Epoch 00003: val_loss improved from 0.60668 to 0.54740, saving model to mymodel.9017\n",
      "INFO:tensorflow:Assets written to: mymodel.9017\\assets\n",
      "Epoch 4/30\n",
      "7/7 - 18s - loss: 0.5910 - accuracy: 0.6832 - val_loss: 0.7145 - val_accuracy: 0.6667\n",
      "\n",
      "Epoch 00004: val_loss did not improve from 0.54740\n",
      "Epoch 5/30\n",
      "7/7 - 18s - loss: 0.6313 - accuracy: 0.6535 - val_loss: 0.7389 - val_accuracy: 0.6250\n",
      "\n",
      "Epoch 00005: val_loss did not improve from 0.54740\n",
      "Epoch 6/30\n",
      "7/7 - 18s - loss: 0.8565 - accuracy: 0.4604 - val_loss: 0.5254 - val_accuracy: 0.7083\n",
      "\n",
      "Epoch 00006: val_loss improved from 0.54740 to 0.52537, saving model to mymodel.9017\n",
      "INFO:tensorflow:Assets written to: mymodel.9017\\assets\n",
      "Epoch 7/30\n",
      "7/7 - 20s - loss: 0.4814 - accuracy: 0.7673 - val_loss: 0.6509 - val_accuracy: 0.6667\n",
      "\n",
      "Epoch 00007: val_loss did not improve from 0.52537\n",
      "Epoch 8/30\n",
      "7/7 - 18s - loss: 0.6705 - accuracy: 0.6535 - val_loss: 0.4852 - val_accuracy: 0.7500\n",
      "\n",
      "Epoch 00008: val_loss improved from 0.52537 to 0.48519, saving model to mymodel.9017\n",
      "INFO:tensorflow:Assets written to: mymodel.9017\\assets\n",
      "Epoch 9/30\n",
      "7/7 - 19s - loss: 0.5414 - accuracy: 0.7376 - val_loss: 0.6683 - val_accuracy: 0.6667\n",
      "\n",
      "Epoch 00009: val_loss did not improve from 0.48519\n",
      "Epoch 10/30\n",
      "7/7 - 18s - loss: 0.5837 - accuracy: 0.7030 - val_loss: 0.6232 - val_accuracy: 0.7083\n",
      "\n",
      "Epoch 00010: val_loss did not improve from 0.48519\n",
      "Epoch 11/30\n",
      "7/7 - 18s - loss: 0.5769 - accuracy: 0.7228 - val_loss: 0.5579 - val_accuracy: 0.7083\n",
      "\n",
      "Epoch 00011: val_loss did not improve from 0.48519\n",
      "Epoch 12/30\n",
      "7/7 - 19s - loss: 0.5367 - accuracy: 0.7376 - val_loss: 0.6185 - val_accuracy: 0.7083\n",
      "\n",
      "Epoch 00012: val_loss did not improve from 0.48519\n",
      "Epoch 13/30\n",
      "7/7 - 18s - loss: 0.5513 - accuracy: 0.7327 - val_loss: 0.5411 - val_accuracy: 0.7083\n",
      "\n",
      "Epoch 00013: val_loss did not improve from 0.48519\n",
      "Epoch 14/30\n",
      "7/7 - 18s - loss: 0.4751 - accuracy: 0.7574 - val_loss: 0.9307 - val_accuracy: 0.6667\n",
      "\n",
      "Epoch 00014: val_loss did not improve from 0.48519\n",
      "Epoch 15/30\n",
      "7/7 - 18s - loss: 0.8626 - accuracy: 0.6089 - val_loss: 0.4806 - val_accuracy: 0.7500\n",
      "\n",
      "Epoch 00015: val_loss improved from 0.48519 to 0.48059, saving model to mymodel.9017\n",
      "INFO:tensorflow:Assets written to: mymodel.9017\\assets\n",
      "Epoch 16/30\n",
      "7/7 - 19s - loss: 0.3642 - accuracy: 0.8267 - val_loss: 0.7300 - val_accuracy: 0.6667\n",
      "\n",
      "Epoch 00016: val_loss did not improve from 0.48059\n",
      "Epoch 17/30\n",
      "7/7 - 19s - loss: 0.6438 - accuracy: 0.6634 - val_loss: 0.8410 - val_accuracy: 0.6667\n",
      "\n",
      "Epoch 00017: val_loss did not improve from 0.48059\n",
      "Epoch 18/30\n",
      "7/7 - 19s - loss: 0.6516 - accuracy: 0.6733 - val_loss: 0.6418 - val_accuracy: 0.7083\n",
      "\n",
      "Epoch 00018: val_loss did not improve from 0.48059\n",
      "Epoch 19/30\n",
      "7/7 - 19s - loss: 0.5166 - accuracy: 0.7673 - val_loss: 0.5675 - val_accuracy: 0.7083\n",
      "\n",
      "Epoch 00019: val_loss did not improve from 0.48059\n",
      "Epoch 20/30\n",
      "7/7 - 19s - loss: 0.5462 - accuracy: 0.7376 - val_loss: 0.5674 - val_accuracy: 0.7083\n",
      "\n",
      "Epoch 00020: val_loss did not improve from 0.48059\n",
      "Epoch 21/30\n",
      "7/7 - 19s - loss: 0.4502 - accuracy: 0.7871 - val_loss: 0.9275 - val_accuracy: 0.6667\n",
      "\n",
      "Epoch 00021: val_loss did not improve from 0.48059\n",
      "Epoch 22/30\n",
      "7/7 - 19s - loss: 0.7226 - accuracy: 0.6485 - val_loss: 0.4991 - val_accuracy: 0.7500\n",
      "\n",
      "Epoch 00022: val_loss did not improve from 0.48059\n",
      "Epoch 23/30\n",
      "7/7 - 18s - loss: 0.3459 - accuracy: 0.8465 - val_loss: 0.7286 - val_accuracy: 0.6667\n",
      "\n",
      "Epoch 00023: val_loss did not improve from 0.48059\n",
      "Epoch 24/30\n",
      "7/7 - 18s - loss: 0.5365 - accuracy: 0.7178 - val_loss: 0.6511 - val_accuracy: 0.7500\n",
      "\n",
      "Epoch 00024: val_loss did not improve from 0.48059\n",
      "Epoch 25/30\n",
      "7/7 - 19s - loss: 0.4827 - accuracy: 0.7525 - val_loss: 0.5162 - val_accuracy: 0.7500\n",
      "\n",
      "Epoch 00025: val_loss did not improve from 0.48059\n",
      "Epoch 26/30\n",
      "7/7 - 18s - loss: 0.3829 - accuracy: 0.8416 - val_loss: 0.5559 - val_accuracy: 0.7500\n",
      "\n",
      "Epoch 00026: val_loss did not improve from 0.48059\n",
      "Epoch 27/30\n",
      "7/7 - 18s - loss: 0.4755 - accuracy: 0.7970 - val_loss: 0.4537 - val_accuracy: 0.7500\n",
      "\n",
      "Epoch 00027: val_loss improved from 0.48059 to 0.45372, saving model to mymodel.9017\n",
      "INFO:tensorflow:Assets written to: mymodel.9017\\assets\n",
      "Epoch 28/30\n",
      "7/7 - 19s - loss: 0.3410 - accuracy: 0.8267 - val_loss: 0.5324 - val_accuracy: 0.7500\n",
      "\n",
      "Epoch 00028: val_loss did not improve from 0.45372\n",
      "Epoch 29/30\n",
      "7/7 - 20s - loss: 0.5046 - accuracy: 0.7822 - val_loss: 1.0630 - val_accuracy: 0.6667\n",
      "\n",
      "Epoch 00029: val_loss did not improve from 0.45372\n",
      "Epoch 30/30\n",
      "7/7 - 19s - loss: 0.9986 - accuracy: 0.6040 - val_loss: 0.4526 - val_accuracy: 0.7500\n",
      "\n",
      "Epoch 00030: val_loss improved from 0.45372 to 0.45265, saving model to mymodel.9017\n",
      "INFO:tensorflow:Assets written to: mymodel.9017\\assets\n",
      "Training completed in time:  0:09:30.032897\n"
     ]
    }
   ],
   "source": [
    "from datetime import datetime\n",
    "from keras.callbacks import ModelCheckpoint\n",
    "from keras.callbacks import ModelCheckpoint, EarlyStopping\n",
    "\n",
    "\n",
    "\n",
    "checkpoint = ModelCheckpoint(filepath='mymodel.9017', \n",
    "                               verbose=2, save_best_only=True)\n",
    "# early_stop = EarlyStopping(monitor='val_accuracy',\n",
    "#                            patience=6,\n",
    "#                            mode='max')\n",
    "\n",
    "callbacks = [checkpoint]\n",
    "\n",
    "start = datetime.now()\n",
    "\n",
    "model_history=model.fit_generator(\n",
    "  train_set,\n",
    "  validation_data=val_set,\n",
    "  epochs=30,callbacks=callbacks ,verbose=2,shuffle=False)\n",
    "\n",
    "\n",
    "duration = datetime.now() - start\n",
    "print(\"Training completed in time: \", duration)"
   ]
  },
  {
   "cell_type": "code",
   "execution_count": 21,
   "id": "86b046af",
   "metadata": {},
   "outputs": [
    {
     "name": "stdout",
     "output_type": "stream",
     "text": [
      "75.0\n"
     ]
    }
   ],
   "source": [
    "#type1\n",
    "from sklearn.metrics import accuracy_score\n",
    "from sklearn.metrics import plot_confusion_matrix\n",
    "true_classes = val_set.classes\n",
    "vgg_preds = model.predict(val_set)\n",
    "vgg_pred_classes = np.argmax(vgg_preds, axis=1)\n",
    "print(accuracy_score(true_classes, vgg_pred_classes)*100)"
   ]
  },
  {
   "cell_type": "code",
   "execution_count": 22,
   "id": "698fc589",
   "metadata": {},
   "outputs": [
    {
     "name": "stderr",
     "output_type": "stream",
     "text": [
      "c:\\users\\rushabh surana\\appdata\\local\\programs\\python\\python39\\lib\\site-packages\\keras\\engine\\training.py:1948: UserWarning: `Model.evaluate_generator` is deprecated and will be removed in a future version. Please use `Model.evaluate`, which supports generators.\n",
      "  warnings.warn('`Model.evaluate_generator` is deprecated and '\n"
     ]
    },
    {
     "data": {
      "text/plain": [
       "0.75"
      ]
     },
     "execution_count": 22,
     "metadata": {},
     "output_type": "execute_result"
    }
   ],
   "source": [
    "#type2\n",
    "model.evaluate_generator(val_set)[1]"
   ]
  },
  {
   "cell_type": "code",
   "execution_count": 23,
   "id": "cf917ffd",
   "metadata": {},
   "outputs": [
    {
     "data": {
      "text/plain": [
       "<AxesSubplot:>"
      ]
     },
     "execution_count": 23,
     "metadata": {},
     "output_type": "execute_result"
    },
    {
     "data": {
      "image/png": "[encoded data removed]",
      "text/plain": [
       "<Figure size 432x288 with 2 Axes>"
      ]
     },
     "metadata": {
      "needs_background": "light"
     },
     "output_type": "display_data"
    }
   ],
   "source": [
    "from sklearn.metrics import confusion_matrix\n",
    "confusion_mtx = confusion_matrix(true_classes, vgg_pred_classes) \n",
    "sns.heatmap(confusion_mtx,annot=True, annot_kws={\"size\": 16},xticklabels=val_set.class_indices,yticklabels=val_set.class_indices,)"
   ]
  },
  {
   "cell_type": "code",
   "execution_count": null,
   "id": "c87298b5",
   "metadata": {},
   "outputs": [],
   "source": []
  },
  {
   "cell_type": "markdown",
   "id": "3a80b580",
   "metadata": {},
   "source": [
    "TEST Data Prediction"
   ]
  },
  {
   "cell_type": "code",
   "execution_count": null,
   "id": "f36b0e2b",
   "metadata": {},
   "outputs": [],
   "source": []
  },
  {
   "cell_type": "code",
   "execution_count": 24,
   "id": "30fec120",
   "metadata": {},
   "outputs": [
    {
     "name": "stdout",
     "output_type": "stream",
     "text": [
      "85.18518518518519\n"
     ]
    }
   ],
   "source": [
    "true_classes1 = test_set.classes\n",
    "vgg_preds1 = model.predict(test_set)\n",
    "vgg_pred_classes1 = np.argmax(vgg_preds1, axis=1)\n",
    "print(accuracy_score(true_classes1, vgg_pred_classes1)*100)"
   ]
  },
  {
   "cell_type": "code",
   "execution_count": 25,
   "id": "ab133244",
   "metadata": {},
   "outputs": [
    {
     "name": "stderr",
     "output_type": "stream",
     "text": [
      "c:\\users\\rushabh surana\\appdata\\local\\programs\\python\\python39\\lib\\site-packages\\keras\\engine\\training.py:1948: UserWarning: `Model.evaluate_generator` is deprecated and will be removed in a future version. Please use `Model.evaluate`, which supports generators.\n",
      "  warnings.warn('`Model.evaluate_generator` is deprecated and '\n"
     ]
    },
    {
     "data": {
      "text/plain": [
       "0.8518518805503845"
      ]
     },
     "execution_count": 25,
     "metadata": {},
     "output_type": "execute_result"
    }
   ],
   "source": [
    "model.evaluate_generator(test_set)[1]"
   ]
  },
  {
   "cell_type": "code",
   "execution_count": null,
   "id": "7a1d615b",
   "metadata": {},
   "outputs": [],
   "source": []
  },
  {
   "cell_type": "code",
   "execution_count": 26,
   "id": "93c5ad15",
   "metadata": {},
   "outputs": [
    {
     "data": {
      "image/png": "[encoded data removed]",
      "text/plain": [
       "<Figure size 1080x360 with 2 Axes>"
      ]
     },
     "metadata": {
      "needs_background": "light"
     },
     "output_type": "display_data"
    }
   ],
   "source": [
    "# plot model performance\n",
    "acc = model_history.history['accuracy']\n",
    "val_acc = model_history.history['val_accuracy']\n",
    "loss = model_history.history['loss']\n",
    "val_loss = model_history.history['val_loss']\n",
    "epochs_range = range(1, len(model_history.epoch) + 1)\n",
    "\n",
    "plt.figure(figsize=(15,5))\n",
    "\n",
    "plt.subplot(1, 2, 1)\n",
    "plt.plot(epochs_range, acc, label='Train Set')\n",
    "plt.plot(epochs_range, val_acc, label='Val Set')\n",
    "plt.legend(loc=\"best\")\n",
    "plt.xlabel('Epochs')\n",
    "plt.ylabel('Accuracy')\n",
    "plt.title('Model Accuracy')\n",
    "\n",
    "plt.subplot(1, 2, 2)\n",
    "plt.plot(epochs_range, loss, label='Train Set')\n",
    "plt.plot(epochs_range, val_loss, label='Val Set')\n",
    "plt.legend(loc=\"best\")\n",
    "plt.xlabel('Epochs')\n",
    "plt.ylabel('Loss')\n",
    "plt.title('Model Loss')\n",
    "\n",
    "plt.tight_layout()\n",
    "plt.show()"
   ]
  },
  {
   "cell_type": "code",
   "execution_count": null,
   "id": "f8964b48",
   "metadata": {},
   "outputs": [],
   "source": []
  }
 ],
 "metadata": {
  "kernelspec": {
   "display_name": "Python 3 (ipykernel)",
   "language": "python",
   "name": "python3"
  },
  "language_info": {
   "codemirror_mode": {
    "name": "ipython",
    "version": 3
   },
   "file_extension": ".py",
   "mimetype": "text/x-python",
   "name": "python",
   "nbconvert_exporter": "python",
   "pygments_lexer": "ipython3",
   "version": "3.9.6"
  }
 },
 "nbformat": 4,
 "nbformat_minor": 5
}
